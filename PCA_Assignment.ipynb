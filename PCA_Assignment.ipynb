{
 "cells": [
  {
   "cell_type": "code",
   "execution_count": 1,
   "id": "5faf4c32",
   "metadata": {},
   "outputs": [],
   "source": [
    "# Importing the libraries\n",
    "import numpy as np\n",
    "import matplotlib.pyplot as plt\n",
    "import pandas as pd\n",
    "from sklearn.model_selection import train_test_split\n",
    "from sklearn.preprocessing import StandardScaler"
   ]
  },
  {
   "cell_type": "code",
   "execution_count": 2,
   "id": "6c165b0a",
   "metadata": {},
   "outputs": [],
   "source": [
    "# Importing the dataset\n",
    "dataset = pd.read_csv('Wine.csv')\n",
    "X = dataset.iloc[:, 0:13].values\n",
    "y = dataset.iloc[:, 13].values"
   ]
  },
  {
   "cell_type": "code",
   "execution_count": 24,
   "id": "ccbc27a5",
   "metadata": {},
   "outputs": [],
   "source": [
    "#Function to standardised and split training and test model by passing input and output variables\n",
    "def split_scalar(indep_X,dep_Y):        \n",
    "        X_train, X_test, y_train, y_test = train_test_split(indep_X, dep_Y, test_size = 0.25, random_state = 0)        \n",
    "        sc = StandardScaler()\n",
    "        X_train = sc.fit_transform(X_train)\n",
    "        X_test = sc.transform(X_test)    \n",
    "        return X_train, X_test, y_train, y_test"
   ]
  },
  {
   "cell_type": "code",
   "execution_count": 25,
   "id": "b4a47a9e",
   "metadata": {},
   "outputs": [],
   "source": [
    "# Applying PCA\n",
    "def PCA(X,Y,n):\n",
    "    from sklearn.decomposition import PCA\n",
    "    pca = PCA(n_components = n)\n",
    "    X_pca = pca.fit_transform(X)\n",
    "    explained_variance = pca.explained_variance_ratio_\n",
    "    X_train_pca, X_test_pca, y_train, y_test = train_test_split(X_pca, Y, test_size = 0.2, random_state = 0)\n",
    "    return X_train_pca,X_test_pca,y_train,y_test"
   ]
  },
  {
   "cell_type": "code",
   "execution_count": 26,
   "id": "d05e9774",
   "metadata": {},
   "outputs": [],
   "source": [
    "# Fitting Logistic Regression to the Training set\n",
    "def logisticRegression(X_train_pca,X_test_pca,y_train,y_test):\n",
    "    from sklearn.linear_model import LogisticRegression\n",
    "    classifier = LogisticRegression(random_state = 0)\n",
    "    classifier.fit(X_train_pca, y_train)\n",
    "    #classifier.score(X_test_pca_t,y_test)\n",
    "    return classifier.score(X_test_pca,y_test)"
   ]
  },
  {
   "cell_type": "code",
   "execution_count": 27,
   "id": "11dd8708",
   "metadata": {},
   "outputs": [],
   "source": [
    "#Function to create model for Linear algorithm\n",
    "def Linear(X_train_pca,X_test_pca,y_train,y_test):               \n",
    "        from sklearn.linear_model import LinearRegression\n",
    "        regressor = LinearRegression()\n",
    "        regressor.fit(X_train_pca, y_train)        \n",
    "        return  regressor.score(X_test_pca,y_test)  "
   ]
  },
  {
   "cell_type": "code",
   "execution_count": 28,
   "id": "ed462205",
   "metadata": {},
   "outputs": [],
   "source": [
    "#Function to create model for svm_linear algorithm\n",
    "def svm_linear(X_train_pca,X_test_pca,y_train,y_test):               \n",
    "        from sklearn.svm import SVR\n",
    "        regressor = SVR(kernel = 'linear')\n",
    "        regressor.fit(X_train_pca, y_train)\n",
    "        return  regressor.score(X_test_pca,y_test) "
   ]
  },
  {
   "cell_type": "code",
   "execution_count": 29,
   "id": "5a2fc5da",
   "metadata": {},
   "outputs": [],
   "source": [
    "#Function to create model for svm Nonlinear algorithm\n",
    "def svm_NL(X_train_pca,X_test_pca,y_train,y_test):                \n",
    "        from sklearn.svm import SVR\n",
    "        regressor = SVR(kernel = 'rbf')\n",
    "        regressor.fit(X_train_pca, y_train)       \n",
    "        return  regressor.score(X_test_pca,y_test) "
   ]
  },
  {
   "cell_type": "code",
   "execution_count": 30,
   "id": "c8dbb898",
   "metadata": {},
   "outputs": [],
   "source": [
    "#Function to create model for Decision Tree algorithm\n",
    "def Decision(X_train_pca,X_test_pca,y_train,y_test):                \n",
    "        from sklearn.tree import DecisionTreeRegressor\n",
    "        regressor = DecisionTreeRegressor(random_state = 0)\n",
    "        regressor.fit(X_train_pca, y_train)        \n",
    "        return  regressor.score(X_test_pca,y_test)"
   ]
  },
  {
   "cell_type": "code",
   "execution_count": 31,
   "id": "4937d046",
   "metadata": {},
   "outputs": [],
   "source": [
    "#Function to create model for random Forest algorithm\n",
    "def random(X_train_pca,X_test_pca,y_train,y_test ):       \n",
    "        # Fitting K-NN to the Training set\n",
    "        from sklearn.ensemble import RandomForestRegressor\n",
    "        regressor = RandomForestRegressor(n_estimators = 10, random_state = 0)\n",
    "        regressor.fit(X_train_pca, y_train)       \n",
    "        return  regressor.score(X_test_pca,y_test)"
   ]
  },
  {
   "cell_type": "code",
   "execution_count": 32,
   "id": "f018c040",
   "metadata": {},
   "outputs": [],
   "source": [
    "X_train, X_test, y_train, y_test=split_scalar(X,y) "
   ]
  },
  {
   "cell_type": "code",
   "execution_count": 33,
   "id": "7b997568",
   "metadata": {},
   "outputs": [],
   "source": [
    "X_train_pca,X_test_pca,y_train,y_test =PCA(X_train,y_train,5)"
   ]
  },
  {
   "cell_type": "code",
   "execution_count": 13,
   "id": "8cc8b376",
   "metadata": {},
   "outputs": [],
   "source": [
    "#score = logisticRegression(X_train_pca,X_test_pca,y_train,y_test)"
   ]
  },
  {
   "cell_type": "code",
   "execution_count": 34,
   "id": "d7f088ff",
   "metadata": {},
   "outputs": [],
   "source": [
    "#Creating list\n",
    "acclog=[]\n",
    "acclin=[]\n",
    "accsvml=[]\n",
    "accsvmnl=[]\n",
    "accdes=[]\n",
    "accrf=[]"
   ]
  },
  {
   "cell_type": "code",
   "execution_count": 35,
   "id": "7875485e",
   "metadata": {},
   "outputs": [],
   "source": [
    "#Calling the standardisation, training test set split function\n",
    "    \n",
    "score_logistic=logisticRegression(X_train_pca,X_test_pca,y_train,y_test)\n",
    "acclog.append(score_logistic)\n",
    "\n",
    "score_linear=Linear(X_train_pca,X_test_pca,y_train,y_test)\n",
    "acclin.append(score_linear)\n",
    "\n",
    "score_svm_linear=svm_linear(X_train_pca,X_test_pca,y_train,y_test)    \n",
    "accsvml.append(score_svm_linear)\n",
    "\n",
    "score_svm_nlinear=svm_NL(X_train_pca,X_test_pca,y_train,y_test)    \n",
    "accsvmnl.append(score_svm_nlinear)\n",
    "\n",
    "score_decision=Decision(X_train_pca,X_test_pca,y_train,y_test)    \n",
    "accdes.append(score_decision)\n",
    "\n",
    "score_random=random(X_train_pca,X_test_pca,y_train,y_test)    \n",
    "accrf.append(score_random)"
   ]
  },
  {
   "cell_type": "code",
   "execution_count": 36,
   "id": "00c1a732",
   "metadata": {},
   "outputs": [],
   "source": [
    "#Function to display selectK features for all the model in a table\n",
    "def PCA_Dimensionality(acclog,acclin,accsvml,accsvmnl,accdes,accrf):    \n",
    "    dataframe=pd.DataFrame(index=['PCA'],columns=['Logisitic','Linear','SVMl','SVMnl','Decision','Random'\n",
    "                                                                                     ])\n",
    "\n",
    "    for number,idex in enumerate(dataframe.index):\n",
    "        dataframe['Logisitic'][idex]=acclog[number]  \n",
    "        dataframe['Linear'][idex]=acclin[number]       \n",
    "        dataframe['SVMl'][idex]=accsvml[number]\n",
    "        dataframe['SVMnl'][idex]=accsvmnl[number]\n",
    "        dataframe['Decision'][idex]=accdes[number]\n",
    "        dataframe['Random'][idex]=accrf[number]\n",
    "    return dataframe"
   ]
  },
  {
   "cell_type": "code",
   "execution_count": 37,
   "id": "18979922",
   "metadata": {},
   "outputs": [],
   "source": [
    "#passing all the returned accuracy and displaying it in a table\n",
    "result=PCA_Dimensionality(acclog,acclin,accsvml,accsvmnl,accdes,accrf)"
   ]
  },
  {
   "cell_type": "code",
   "execution_count": 21,
   "id": "f440bd9e",
   "metadata": {},
   "outputs": [
    {
     "data": {
      "text/html": [
       "<div>\n",
       "<style scoped>\n",
       "    .dataframe tbody tr th:only-of-type {\n",
       "        vertical-align: middle;\n",
       "    }\n",
       "\n",
       "    .dataframe tbody tr th {\n",
       "        vertical-align: top;\n",
       "    }\n",
       "\n",
       "    .dataframe thead th {\n",
       "        text-align: right;\n",
       "    }\n",
       "</style>\n",
       "<table border=\"1\" class=\"dataframe\">\n",
       "  <thead>\n",
       "    <tr style=\"text-align: right;\">\n",
       "      <th></th>\n",
       "      <th>Logisitic</th>\n",
       "      <th>Linear</th>\n",
       "      <th>SVMl</th>\n",
       "      <th>SVMnl</th>\n",
       "      <th>Decision</th>\n",
       "      <th>Random</th>\n",
       "    </tr>\n",
       "  </thead>\n",
       "  <tbody>\n",
       "    <tr>\n",
       "      <th>PCA</th>\n",
       "      <td>0.962963</td>\n",
       "      <td>0.655095</td>\n",
       "      <td>0.651941</td>\n",
       "      <td>0.890678</td>\n",
       "      <td>0.34375</td>\n",
       "      <td>0.603437</td>\n",
       "    </tr>\n",
       "  </tbody>\n",
       "</table>\n",
       "</div>"
      ],
      "text/plain": [
       "    Logisitic    Linear      SVMl     SVMnl Decision    Random\n",
       "PCA  0.962963  0.655095  0.651941  0.890678  0.34375  0.603437"
      ]
     },
     "execution_count": 21,
     "metadata": {},
     "output_type": "execute_result"
    }
   ],
   "source": [
    "result #2"
   ]
  },
  {
   "cell_type": "code",
   "execution_count": 38,
   "id": "1838d2b6",
   "metadata": {},
   "outputs": [
    {
     "data": {
      "text/html": [
       "<div>\n",
       "<style scoped>\n",
       "    .dataframe tbody tr th:only-of-type {\n",
       "        vertical-align: middle;\n",
       "    }\n",
       "\n",
       "    .dataframe tbody tr th {\n",
       "        vertical-align: top;\n",
       "    }\n",
       "\n",
       "    .dataframe thead th {\n",
       "        text-align: right;\n",
       "    }\n",
       "</style>\n",
       "<table border=\"1\" class=\"dataframe\">\n",
       "  <thead>\n",
       "    <tr style=\"text-align: right;\">\n",
       "      <th></th>\n",
       "      <th>Logisitic</th>\n",
       "      <th>Linear</th>\n",
       "      <th>SVMl</th>\n",
       "      <th>SVMnl</th>\n",
       "      <th>Decision</th>\n",
       "      <th>Random</th>\n",
       "    </tr>\n",
       "  </thead>\n",
       "  <tbody>\n",
       "    <tr>\n",
       "      <th>PCA</th>\n",
       "      <td>0.962963</td>\n",
       "      <td>0.726361</td>\n",
       "      <td>0.727577</td>\n",
       "      <td>0.899322</td>\n",
       "      <td>0.4375</td>\n",
       "      <td>0.6025</td>\n",
       "    </tr>\n",
       "  </tbody>\n",
       "</table>\n",
       "</div>"
      ],
      "text/plain": [
       "    Logisitic    Linear      SVMl     SVMnl Decision  Random\n",
       "PCA  0.962963  0.726361  0.727577  0.899322   0.4375  0.6025"
      ]
     },
     "execution_count": 38,
     "metadata": {},
     "output_type": "execute_result"
    }
   ],
   "source": [
    "result #5"
   ]
  },
  {
   "cell_type": "code",
   "execution_count": null,
   "id": "2bfae1cf",
   "metadata": {},
   "outputs": [],
   "source": []
  }
 ],
 "metadata": {
  "kernelspec": {
   "display_name": "Python 3 (ipykernel)",
   "language": "python",
   "name": "python3"
  },
  "language_info": {
   "codemirror_mode": {
    "name": "ipython",
    "version": 3
   },
   "file_extension": ".py",
   "mimetype": "text/x-python",
   "name": "python",
   "nbconvert_exporter": "python",
   "pygments_lexer": "ipython3",
   "version": "3.11.5"
  }
 },
 "nbformat": 4,
 "nbformat_minor": 5
}
